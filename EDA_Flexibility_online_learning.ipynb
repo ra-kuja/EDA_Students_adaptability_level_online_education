{
  "nbformat": 4,
  "nbformat_minor": 0,
  "metadata": {
    "colab": {
      "name": "EDA - Flexibility in online learning.ipynb",
      "provenance": []
    },
    "kernelspec": {
      "name": "python3",
      "display_name": "Python 3"
    },
    "language_info": {
      "name": "python"
    }
  },
  "cells": [
    {
      "cell_type": "markdown",
      "source": [
        "# Introduction"
      ],
      "metadata": {
        "id": "CvQYtJMStYyo"
      }
    },
    {
      "cell_type": "markdown",
      "source": [
        "Online learning is one method to help students learn even though they are far from the teacher. This also requires supporting facilities such as the devices used and also an adequate internet signal. From the following dataset, we will analyze how effective online learning is at several levels of education, the location where students live, the internet used, and much more."
      ],
      "metadata": {
        "id": "C84LFbbAuIjt"
      }
    },
    {
      "cell_type": "markdown",
      "source": [
        "# Import Libraries"
      ],
      "metadata": {
        "id": "3rFDBamgoWVb"
      }
    },
    {
      "cell_type": "code",
      "execution_count": null,
      "metadata": {
        "id": "w3Eof2NPnnMc"
      },
      "outputs": [],
      "source": [
        "import numpy as np\n",
        "import pandas as pd\n",
        "import seaborn as sns\n",
        "import matplotlib.pyplot as plt"
      ]
    },
    {
      "cell_type": "markdown",
      "source": [
        "## Load Data"
      ],
      "metadata": {
        "id": "0bRqZkRQpvlD"
      }
    },
    {
      "cell_type": "markdown",
      "source": [
        "Next, Load Data csv file from https://www.kaggle.com/datasets/shariful07/student-flexibility-in-online-learning"
      ],
      "metadata": {
        "id": "917NaBtcqfP4"
      }
    },
    {
      "cell_type": "code",
      "source": [
        "df = pd.read_csv(\"students_adaptability_level_online_education.csv\")\n",
        "df.head()"
      ],
      "metadata": {
        "colab": {
          "base_uri": "https://localhost:8080/",
          "height": 206
        },
        "id": "gpaU8-JbquPN",
        "outputId": "b7c1d2e0-51ba-476b-c86d-3954bc24680c"
      },
      "execution_count": null,
      "outputs": [
        {
          "output_type": "execute_result",
          "data": {
            "text/plain": [
              "  Education Level Institution Type  Gender  Age  Device IT Student Location  \\\n",
              "0      University          Private    Male   23     Tab         No     Town   \n",
              "1      University          Private  Female   23  Mobile         No     Town   \n",
              "2         College           Public  Female   18  Mobile         No     Town   \n",
              "3          School          Private  Female   11  Mobile         No     Town   \n",
              "4          School          Private  Female   18  Mobile         No     Town   \n",
              "\n",
              "  Financial Condition Internet Type Network Type Flexibility Level  \n",
              "0                 Mid          Wifi           4G          Moderate  \n",
              "1                 Mid   Mobile Data           4G          Moderate  \n",
              "2                 Mid          Wifi           4G          Moderate  \n",
              "3                 Mid   Mobile Data           4G          Moderate  \n",
              "4                Poor   Mobile Data           3G               Low  "
            ],
            "text/html": [
              "\n",
              "  <div id=\"df-37c45039-2066-4f44-9c9d-7d4ddb41fe3f\">\n",
              "    <div class=\"colab-df-container\">\n",
              "      <div>\n",
              "<style scoped>\n",
              "    .dataframe tbody tr th:only-of-type {\n",
              "        vertical-align: middle;\n",
              "    }\n",
              "\n",
              "    .dataframe tbody tr th {\n",
              "        vertical-align: top;\n",
              "    }\n",
              "\n",
              "    .dataframe thead th {\n",
              "        text-align: right;\n",
              "    }\n",
              "</style>\n",
              "<table border=\"1\" class=\"dataframe\">\n",
              "  <thead>\n",
              "    <tr style=\"text-align: right;\">\n",
              "      <th></th>\n",
              "      <th>Education Level</th>\n",
              "      <th>Institution Type</th>\n",
              "      <th>Gender</th>\n",
              "      <th>Age</th>\n",
              "      <th>Device</th>\n",
              "      <th>IT Student</th>\n",
              "      <th>Location</th>\n",
              "      <th>Financial Condition</th>\n",
              "      <th>Internet Type</th>\n",
              "      <th>Network Type</th>\n",
              "      <th>Flexibility Level</th>\n",
              "    </tr>\n",
              "  </thead>\n",
              "  <tbody>\n",
              "    <tr>\n",
              "      <th>0</th>\n",
              "      <td>University</td>\n",
              "      <td>Private</td>\n",
              "      <td>Male</td>\n",
              "      <td>23</td>\n",
              "      <td>Tab</td>\n",
              "      <td>No</td>\n",
              "      <td>Town</td>\n",
              "      <td>Mid</td>\n",
              "      <td>Wifi</td>\n",
              "      <td>4G</td>\n",
              "      <td>Moderate</td>\n",
              "    </tr>\n",
              "    <tr>\n",
              "      <th>1</th>\n",
              "      <td>University</td>\n",
              "      <td>Private</td>\n",
              "      <td>Female</td>\n",
              "      <td>23</td>\n",
              "      <td>Mobile</td>\n",
              "      <td>No</td>\n",
              "      <td>Town</td>\n",
              "      <td>Mid</td>\n",
              "      <td>Mobile Data</td>\n",
              "      <td>4G</td>\n",
              "      <td>Moderate</td>\n",
              "    </tr>\n",
              "    <tr>\n",
              "      <th>2</th>\n",
              "      <td>College</td>\n",
              "      <td>Public</td>\n",
              "      <td>Female</td>\n",
              "      <td>18</td>\n",
              "      <td>Mobile</td>\n",
              "      <td>No</td>\n",
              "      <td>Town</td>\n",
              "      <td>Mid</td>\n",
              "      <td>Wifi</td>\n",
              "      <td>4G</td>\n",
              "      <td>Moderate</td>\n",
              "    </tr>\n",
              "    <tr>\n",
              "      <th>3</th>\n",
              "      <td>School</td>\n",
              "      <td>Private</td>\n",
              "      <td>Female</td>\n",
              "      <td>11</td>\n",
              "      <td>Mobile</td>\n",
              "      <td>No</td>\n",
              "      <td>Town</td>\n",
              "      <td>Mid</td>\n",
              "      <td>Mobile Data</td>\n",
              "      <td>4G</td>\n",
              "      <td>Moderate</td>\n",
              "    </tr>\n",
              "    <tr>\n",
              "      <th>4</th>\n",
              "      <td>School</td>\n",
              "      <td>Private</td>\n",
              "      <td>Female</td>\n",
              "      <td>18</td>\n",
              "      <td>Mobile</td>\n",
              "      <td>No</td>\n",
              "      <td>Town</td>\n",
              "      <td>Poor</td>\n",
              "      <td>Mobile Data</td>\n",
              "      <td>3G</td>\n",
              "      <td>Low</td>\n",
              "    </tr>\n",
              "  </tbody>\n",
              "</table>\n",
              "</div>\n",
              "      <button class=\"colab-df-convert\" onclick=\"convertToInteractive('df-37c45039-2066-4f44-9c9d-7d4ddb41fe3f')\"\n",
              "              title=\"Convert this dataframe to an interactive table.\"\n",
              "              style=\"display:none;\">\n",
              "        \n",
              "  <svg xmlns=\"http://www.w3.org/2000/svg\" height=\"24px\"viewBox=\"0 0 24 24\"\n",
              "       width=\"24px\">\n",
              "    <path d=\"M0 0h24v24H0V0z\" fill=\"none\"/>\n",
              "    <path d=\"M18.56 5.44l.94 2.06.94-2.06 2.06-.94-2.06-.94-.94-2.06-.94 2.06-2.06.94zm-11 1L8.5 8.5l.94-2.06 2.06-.94-2.06-.94L8.5 2.5l-.94 2.06-2.06.94zm10 10l.94 2.06.94-2.06 2.06-.94-2.06-.94-.94-2.06-.94 2.06-2.06.94z\"/><path d=\"M17.41 7.96l-1.37-1.37c-.4-.4-.92-.59-1.43-.59-.52 0-1.04.2-1.43.59L10.3 9.45l-7.72 7.72c-.78.78-.78 2.05 0 2.83L4 21.41c.39.39.9.59 1.41.59.51 0 1.02-.2 1.41-.59l7.78-7.78 2.81-2.81c.8-.78.8-2.07 0-2.86zM5.41 20L4 18.59l7.72-7.72 1.47 1.35L5.41 20z\"/>\n",
              "  </svg>\n",
              "      </button>\n",
              "      \n",
              "  <style>\n",
              "    .colab-df-container {\n",
              "      display:flex;\n",
              "      flex-wrap:wrap;\n",
              "      gap: 12px;\n",
              "    }\n",
              "\n",
              "    .colab-df-convert {\n",
              "      background-color: #E8F0FE;\n",
              "      border: none;\n",
              "      border-radius: 50%;\n",
              "      cursor: pointer;\n",
              "      display: none;\n",
              "      fill: #1967D2;\n",
              "      height: 32px;\n",
              "      padding: 0 0 0 0;\n",
              "      width: 32px;\n",
              "    }\n",
              "\n",
              "    .colab-df-convert:hover {\n",
              "      background-color: #E2EBFA;\n",
              "      box-shadow: 0px 1px 2px rgba(60, 64, 67, 0.3), 0px 1px 3px 1px rgba(60, 64, 67, 0.15);\n",
              "      fill: #174EA6;\n",
              "    }\n",
              "\n",
              "    [theme=dark] .colab-df-convert {\n",
              "      background-color: #3B4455;\n",
              "      fill: #D2E3FC;\n",
              "    }\n",
              "\n",
              "    [theme=dark] .colab-df-convert:hover {\n",
              "      background-color: #434B5C;\n",
              "      box-shadow: 0px 1px 3px 1px rgba(0, 0, 0, 0.15);\n",
              "      filter: drop-shadow(0px 1px 2px rgba(0, 0, 0, 0.3));\n",
              "      fill: #FFFFFF;\n",
              "    }\n",
              "  </style>\n",
              "\n",
              "      <script>\n",
              "        const buttonEl =\n",
              "          document.querySelector('#df-37c45039-2066-4f44-9c9d-7d4ddb41fe3f button.colab-df-convert');\n",
              "        buttonEl.style.display =\n",
              "          google.colab.kernel.accessAllowed ? 'block' : 'none';\n",
              "\n",
              "        async function convertToInteractive(key) {\n",
              "          const element = document.querySelector('#df-37c45039-2066-4f44-9c9d-7d4ddb41fe3f');\n",
              "          const dataTable =\n",
              "            await google.colab.kernel.invokeFunction('convertToInteractive',\n",
              "                                                     [key], {});\n",
              "          if (!dataTable) return;\n",
              "\n",
              "          const docLinkHtml = 'Like what you see? Visit the ' +\n",
              "            '<a target=\"_blank\" href=https://colab.research.google.com/notebooks/data_table.ipynb>data table notebook</a>'\n",
              "            + ' to learn more about interactive tables.';\n",
              "          element.innerHTML = '';\n",
              "          dataTable['output_type'] = 'display_data';\n",
              "          await google.colab.output.renderOutput(dataTable, element);\n",
              "          const docLink = document.createElement('div');\n",
              "          docLink.innerHTML = docLinkHtml;\n",
              "          element.appendChild(docLink);\n",
              "        }\n",
              "      </script>\n",
              "    </div>\n",
              "  </div>\n",
              "  "
            ]
          },
          "metadata": {},
          "execution_count": 23
        }
      ]
    },
    {
      "cell_type": "code",
      "source": [
        "df.sample(10)"
      ],
      "metadata": {
        "colab": {
          "base_uri": "https://localhost:8080/",
          "height": 363
        },
        "id": "xoUmIspV12mP",
        "outputId": "74b4ba4f-22e2-4c76-8d3e-45ca46d518a9"
      },
      "execution_count": null,
      "outputs": [
        {
          "output_type": "execute_result",
          "data": {
            "text/plain": [
              "     Education Level Institution Type  Gender  Age    Device IT Student  \\\n",
              "254           School          Private  Female   11    Mobile         No   \n",
              "613       University           Public    Male   23    Mobile         No   \n",
              "491           School          Private    Male   11    Mobile         No   \n",
              "565       University          Private    Male   23  Computer        Yes   \n",
              "91        University          Private    Male   23  Computer        Yes   \n",
              "836           School          Private  Female    9    Mobile         No   \n",
              "1060      University           Public    Male   27    Mobile         No   \n",
              "1141          School          Private    Male   11    Mobile         No   \n",
              "602       University          Private  Female   23       Tab         No   \n",
              "52        University          Private    Male   23    Mobile        Yes   \n",
              "\n",
              "     Location Financial Condition Internet Type Network Type Flexibility Level  \n",
              "254      Town                Poor          Wifi           3G          Moderate  \n",
              "613     Rural                 Mid          Wifi           4G               Low  \n",
              "491      Town                 Mid   Mobile Data           3G          Moderate  \n",
              "565      Town                 Mid          Wifi           3G          Moderate  \n",
              "91       Town                 Mid          Wifi           4G          Moderate  \n",
              "836      Town                Poor   Mobile Data           4G          Moderate  \n",
              "1060    Rural                Poor   Mobile Data           4G               Low  \n",
              "1141     Town                Rich   Mobile Data           3G              High  \n",
              "602      Town                Rich          Wifi           4G          Moderate  \n",
              "52       Town                 Mid   Mobile Data           3G          Moderate  "
            ],
            "text/html": [
              "\n",
              "  <div id=\"df-3575de0b-c98b-49ee-b5d2-2ea96e003da2\">\n",
              "    <div class=\"colab-df-container\">\n",
              "      <div>\n",
              "<style scoped>\n",
              "    .dataframe tbody tr th:only-of-type {\n",
              "        vertical-align: middle;\n",
              "    }\n",
              "\n",
              "    .dataframe tbody tr th {\n",
              "        vertical-align: top;\n",
              "    }\n",
              "\n",
              "    .dataframe thead th {\n",
              "        text-align: right;\n",
              "    }\n",
              "</style>\n",
              "<table border=\"1\" class=\"dataframe\">\n",
              "  <thead>\n",
              "    <tr style=\"text-align: right;\">\n",
              "      <th></th>\n",
              "      <th>Education Level</th>\n",
              "      <th>Institution Type</th>\n",
              "      <th>Gender</th>\n",
              "      <th>Age</th>\n",
              "      <th>Device</th>\n",
              "      <th>IT Student</th>\n",
              "      <th>Location</th>\n",
              "      <th>Financial Condition</th>\n",
              "      <th>Internet Type</th>\n",
              "      <th>Network Type</th>\n",
              "      <th>Flexibility Level</th>\n",
              "    </tr>\n",
              "  </thead>\n",
              "  <tbody>\n",
              "    <tr>\n",
              "      <th>254</th>\n",
              "      <td>School</td>\n",
              "      <td>Private</td>\n",
              "      <td>Female</td>\n",
              "      <td>11</td>\n",
              "      <td>Mobile</td>\n",
              "      <td>No</td>\n",
              "      <td>Town</td>\n",
              "      <td>Poor</td>\n",
              "      <td>Wifi</td>\n",
              "      <td>3G</td>\n",
              "      <td>Moderate</td>\n",
              "    </tr>\n",
              "    <tr>\n",
              "      <th>613</th>\n",
              "      <td>University</td>\n",
              "      <td>Public</td>\n",
              "      <td>Male</td>\n",
              "      <td>23</td>\n",
              "      <td>Mobile</td>\n",
              "      <td>No</td>\n",
              "      <td>Rural</td>\n",
              "      <td>Mid</td>\n",
              "      <td>Wifi</td>\n",
              "      <td>4G</td>\n",
              "      <td>Low</td>\n",
              "    </tr>\n",
              "    <tr>\n",
              "      <th>491</th>\n",
              "      <td>School</td>\n",
              "      <td>Private</td>\n",
              "      <td>Male</td>\n",
              "      <td>11</td>\n",
              "      <td>Mobile</td>\n",
              "      <td>No</td>\n",
              "      <td>Town</td>\n",
              "      <td>Mid</td>\n",
              "      <td>Mobile Data</td>\n",
              "      <td>3G</td>\n",
              "      <td>Moderate</td>\n",
              "    </tr>\n",
              "    <tr>\n",
              "      <th>565</th>\n",
              "      <td>University</td>\n",
              "      <td>Private</td>\n",
              "      <td>Male</td>\n",
              "      <td>23</td>\n",
              "      <td>Computer</td>\n",
              "      <td>Yes</td>\n",
              "      <td>Town</td>\n",
              "      <td>Mid</td>\n",
              "      <td>Wifi</td>\n",
              "      <td>3G</td>\n",
              "      <td>Moderate</td>\n",
              "    </tr>\n",
              "    <tr>\n",
              "      <th>91</th>\n",
              "      <td>University</td>\n",
              "      <td>Private</td>\n",
              "      <td>Male</td>\n",
              "      <td>23</td>\n",
              "      <td>Computer</td>\n",
              "      <td>Yes</td>\n",
              "      <td>Town</td>\n",
              "      <td>Mid</td>\n",
              "      <td>Wifi</td>\n",
              "      <td>4G</td>\n",
              "      <td>Moderate</td>\n",
              "    </tr>\n",
              "    <tr>\n",
              "      <th>836</th>\n",
              "      <td>School</td>\n",
              "      <td>Private</td>\n",
              "      <td>Female</td>\n",
              "      <td>9</td>\n",
              "      <td>Mobile</td>\n",
              "      <td>No</td>\n",
              "      <td>Town</td>\n",
              "      <td>Poor</td>\n",
              "      <td>Mobile Data</td>\n",
              "      <td>4G</td>\n",
              "      <td>Moderate</td>\n",
              "    </tr>\n",
              "    <tr>\n",
              "      <th>1060</th>\n",
              "      <td>University</td>\n",
              "      <td>Public</td>\n",
              "      <td>Male</td>\n",
              "      <td>27</td>\n",
              "      <td>Mobile</td>\n",
              "      <td>No</td>\n",
              "      <td>Rural</td>\n",
              "      <td>Poor</td>\n",
              "      <td>Mobile Data</td>\n",
              "      <td>4G</td>\n",
              "      <td>Low</td>\n",
              "    </tr>\n",
              "    <tr>\n",
              "      <th>1141</th>\n",
              "      <td>School</td>\n",
              "      <td>Private</td>\n",
              "      <td>Male</td>\n",
              "      <td>11</td>\n",
              "      <td>Mobile</td>\n",
              "      <td>No</td>\n",
              "      <td>Town</td>\n",
              "      <td>Rich</td>\n",
              "      <td>Mobile Data</td>\n",
              "      <td>3G</td>\n",
              "      <td>High</td>\n",
              "    </tr>\n",
              "    <tr>\n",
              "      <th>602</th>\n",
              "      <td>University</td>\n",
              "      <td>Private</td>\n",
              "      <td>Female</td>\n",
              "      <td>23</td>\n",
              "      <td>Tab</td>\n",
              "      <td>No</td>\n",
              "      <td>Town</td>\n",
              "      <td>Rich</td>\n",
              "      <td>Wifi</td>\n",
              "      <td>4G</td>\n",
              "      <td>Moderate</td>\n",
              "    </tr>\n",
              "    <tr>\n",
              "      <th>52</th>\n",
              "      <td>University</td>\n",
              "      <td>Private</td>\n",
              "      <td>Male</td>\n",
              "      <td>23</td>\n",
              "      <td>Mobile</td>\n",
              "      <td>Yes</td>\n",
              "      <td>Town</td>\n",
              "      <td>Mid</td>\n",
              "      <td>Mobile Data</td>\n",
              "      <td>3G</td>\n",
              "      <td>Moderate</td>\n",
              "    </tr>\n",
              "  </tbody>\n",
              "</table>\n",
              "</div>\n",
              "      <button class=\"colab-df-convert\" onclick=\"convertToInteractive('df-3575de0b-c98b-49ee-b5d2-2ea96e003da2')\"\n",
              "              title=\"Convert this dataframe to an interactive table.\"\n",
              "              style=\"display:none;\">\n",
              "        \n",
              "  <svg xmlns=\"http://www.w3.org/2000/svg\" height=\"24px\"viewBox=\"0 0 24 24\"\n",
              "       width=\"24px\">\n",
              "    <path d=\"M0 0h24v24H0V0z\" fill=\"none\"/>\n",
              "    <path d=\"M18.56 5.44l.94 2.06.94-2.06 2.06-.94-2.06-.94-.94-2.06-.94 2.06-2.06.94zm-11 1L8.5 8.5l.94-2.06 2.06-.94-2.06-.94L8.5 2.5l-.94 2.06-2.06.94zm10 10l.94 2.06.94-2.06 2.06-.94-2.06-.94-.94-2.06-.94 2.06-2.06.94z\"/><path d=\"M17.41 7.96l-1.37-1.37c-.4-.4-.92-.59-1.43-.59-.52 0-1.04.2-1.43.59L10.3 9.45l-7.72 7.72c-.78.78-.78 2.05 0 2.83L4 21.41c.39.39.9.59 1.41.59.51 0 1.02-.2 1.41-.59l7.78-7.78 2.81-2.81c.8-.78.8-2.07 0-2.86zM5.41 20L4 18.59l7.72-7.72 1.47 1.35L5.41 20z\"/>\n",
              "  </svg>\n",
              "      </button>\n",
              "      \n",
              "  <style>\n",
              "    .colab-df-container {\n",
              "      display:flex;\n",
              "      flex-wrap:wrap;\n",
              "      gap: 12px;\n",
              "    }\n",
              "\n",
              "    .colab-df-convert {\n",
              "      background-color: #E8F0FE;\n",
              "      border: none;\n",
              "      border-radius: 50%;\n",
              "      cursor: pointer;\n",
              "      display: none;\n",
              "      fill: #1967D2;\n",
              "      height: 32px;\n",
              "      padding: 0 0 0 0;\n",
              "      width: 32px;\n",
              "    }\n",
              "\n",
              "    .colab-df-convert:hover {\n",
              "      background-color: #E2EBFA;\n",
              "      box-shadow: 0px 1px 2px rgba(60, 64, 67, 0.3), 0px 1px 3px 1px rgba(60, 64, 67, 0.15);\n",
              "      fill: #174EA6;\n",
              "    }\n",
              "\n",
              "    [theme=dark] .colab-df-convert {\n",
              "      background-color: #3B4455;\n",
              "      fill: #D2E3FC;\n",
              "    }\n",
              "\n",
              "    [theme=dark] .colab-df-convert:hover {\n",
              "      background-color: #434B5C;\n",
              "      box-shadow: 0px 1px 3px 1px rgba(0, 0, 0, 0.15);\n",
              "      filter: drop-shadow(0px 1px 2px rgba(0, 0, 0, 0.3));\n",
              "      fill: #FFFFFF;\n",
              "    }\n",
              "  </style>\n",
              "\n",
              "      <script>\n",
              "        const buttonEl =\n",
              "          document.querySelector('#df-3575de0b-c98b-49ee-b5d2-2ea96e003da2 button.colab-df-convert');\n",
              "        buttonEl.style.display =\n",
              "          google.colab.kernel.accessAllowed ? 'block' : 'none';\n",
              "\n",
              "        async function convertToInteractive(key) {\n",
              "          const element = document.querySelector('#df-3575de0b-c98b-49ee-b5d2-2ea96e003da2');\n",
              "          const dataTable =\n",
              "            await google.colab.kernel.invokeFunction('convertToInteractive',\n",
              "                                                     [key], {});\n",
              "          if (!dataTable) return;\n",
              "\n",
              "          const docLinkHtml = 'Like what you see? Visit the ' +\n",
              "            '<a target=\"_blank\" href=https://colab.research.google.com/notebooks/data_table.ipynb>data table notebook</a>'\n",
              "            + ' to learn more about interactive tables.';\n",
              "          element.innerHTML = '';\n",
              "          dataTable['output_type'] = 'display_data';\n",
              "          await google.colab.output.renderOutput(dataTable, element);\n",
              "          const docLink = document.createElement('div');\n",
              "          docLink.innerHTML = docLinkHtml;\n",
              "          element.appendChild(docLink);\n",
              "        }\n",
              "      </script>\n",
              "    </div>\n",
              "  </div>\n",
              "  "
            ]
          },
          "metadata": {},
          "execution_count": 35
        }
      ]
    },
    {
      "cell_type": "markdown",
      "source": [
        "## Data Understanding"
      ],
      "metadata": {
        "id": "kgWcQxFH3jqd"
      }
    },
    {
      "cell_type": "code",
      "source": [
        "df.info()"
      ],
      "metadata": {
        "colab": {
          "base_uri": "https://localhost:8080/"
        },
        "id": "UQm-p30HuFdx",
        "outputId": "e06014e3-649e-4a39-d395-51745665158a"
      },
      "execution_count": null,
      "outputs": [
        {
          "output_type": "stream",
          "name": "stdout",
          "text": [
            "<class 'pandas.core.frame.DataFrame'>\n",
            "RangeIndex: 1205 entries, 0 to 1204\n",
            "Data columns (total 11 columns):\n",
            " #   Column               Non-Null Count  Dtype \n",
            "---  ------               --------------  ----- \n",
            " 0   Education Level      1205 non-null   object\n",
            " 1   Institution Type     1205 non-null   object\n",
            " 2   Gender               1205 non-null   object\n",
            " 3   Age                  1205 non-null   int64 \n",
            " 4   Device               1205 non-null   object\n",
            " 5   IT Student           1205 non-null   object\n",
            " 6   Location             1205 non-null   object\n",
            " 7   Financial Condition  1205 non-null   object\n",
            " 8   Internet Type        1205 non-null   object\n",
            " 9   Network Type         1205 non-null   object\n",
            " 10  Flexibility Level    1205 non-null   object\n",
            "dtypes: int64(1), object(10)\n",
            "memory usage: 103.7+ KB\n"
          ]
        }
      ]
    },
    {
      "cell_type": "code",
      "source": [
        "# check duplicated data\n",
        "df.duplicated().sum()"
      ],
      "metadata": {
        "colab": {
          "base_uri": "https://localhost:8080/"
        },
        "id": "OKBMgZXYuKa_",
        "outputId": "642d8dd5-eb88-4eed-9a4d-05d09af4b64a"
      },
      "execution_count": null,
      "outputs": [
        {
          "output_type": "execute_result",
          "data": {
            "text/plain": [
              "980"
            ]
          },
          "metadata": {},
          "execution_count": 4
        }
      ]
    },
    {
      "cell_type": "code",
      "source": [
        "df.isna().sum()"
      ],
      "metadata": {
        "colab": {
          "base_uri": "https://localhost:8080/"
        },
        "id": "w8nNTsGF4dx0",
        "outputId": "5d285593-2162-425e-bafa-f821139f34aa"
      },
      "execution_count": null,
      "outputs": [
        {
          "output_type": "execute_result",
          "data": {
            "text/plain": [
              "Education Level        0\n",
              "Institution Type       0\n",
              "Gender                 0\n",
              "Age                    0\n",
              "Device                 0\n",
              "IT Student             0\n",
              "Location               0\n",
              "Financial Condition    0\n",
              "Internet Type          0\n",
              "Network Type           0\n",
              "Flexibility Level      0\n",
              "dtype: int64"
            ]
          },
          "metadata": {},
          "execution_count": 5
        }
      ]
    },
    {
      "cell_type": "markdown",
      "source": [
        "Observation of Data Understanding :\n",
        "\n",
        "*   Dataset has 1205 rows and 11 columns\n",
        "*   No Missing values\n",
        "*   Dataset has 980 duplicated data but it won't drop for the next analyze\n",
        "\n",
        "\n",
        "\n"
      ],
      "metadata": {
        "id": "GOEkvdK0303_"
      }
    },
    {
      "cell_type": "markdown",
      "source": [
        "# Standar EDA"
      ],
      "metadata": {
        "id": "RT1CtiG_7hTX"
      }
    },
    {
      "cell_type": "code",
      "source": [
        "df.describe()"
      ],
      "metadata": {
        "colab": {
          "base_uri": "https://localhost:8080/",
          "height": 300
        },
        "id": "Tlj40bZK7Zco",
        "outputId": "4ecf7a85-68fc-4205-c07b-5f2d06e9817b"
      },
      "execution_count": null,
      "outputs": [
        {
          "output_type": "execute_result",
          "data": {
            "text/plain": [
              "               Age\n",
              "count  1205.000000\n",
              "mean     17.065560\n",
              "std       5.830369\n",
              "min       9.000000\n",
              "25%      11.000000\n",
              "50%      18.000000\n",
              "75%      23.000000\n",
              "max      27.000000"
            ],
            "text/html": [
              "\n",
              "  <div id=\"df-63178774-da3a-4649-a662-9039008af6aa\">\n",
              "    <div class=\"colab-df-container\">\n",
              "      <div>\n",
              "<style scoped>\n",
              "    .dataframe tbody tr th:only-of-type {\n",
              "        vertical-align: middle;\n",
              "    }\n",
              "\n",
              "    .dataframe tbody tr th {\n",
              "        vertical-align: top;\n",
              "    }\n",
              "\n",
              "    .dataframe thead th {\n",
              "        text-align: right;\n",
              "    }\n",
              "</style>\n",
              "<table border=\"1\" class=\"dataframe\">\n",
              "  <thead>\n",
              "    <tr style=\"text-align: right;\">\n",
              "      <th></th>\n",
              "      <th>Age</th>\n",
              "    </tr>\n",
              "  </thead>\n",
              "  <tbody>\n",
              "    <tr>\n",
              "      <th>count</th>\n",
              "      <td>1205.000000</td>\n",
              "    </tr>\n",
              "    <tr>\n",
              "      <th>mean</th>\n",
              "      <td>17.065560</td>\n",
              "    </tr>\n",
              "    <tr>\n",
              "      <th>std</th>\n",
              "      <td>5.830369</td>\n",
              "    </tr>\n",
              "    <tr>\n",
              "      <th>min</th>\n",
              "      <td>9.000000</td>\n",
              "    </tr>\n",
              "    <tr>\n",
              "      <th>25%</th>\n",
              "      <td>11.000000</td>\n",
              "    </tr>\n",
              "    <tr>\n",
              "      <th>50%</th>\n",
              "      <td>18.000000</td>\n",
              "    </tr>\n",
              "    <tr>\n",
              "      <th>75%</th>\n",
              "      <td>23.000000</td>\n",
              "    </tr>\n",
              "    <tr>\n",
              "      <th>max</th>\n",
              "      <td>27.000000</td>\n",
              "    </tr>\n",
              "  </tbody>\n",
              "</table>\n",
              "</div>\n",
              "      <button class=\"colab-df-convert\" onclick=\"convertToInteractive('df-63178774-da3a-4649-a662-9039008af6aa')\"\n",
              "              title=\"Convert this dataframe to an interactive table.\"\n",
              "              style=\"display:none;\">\n",
              "        \n",
              "  <svg xmlns=\"http://www.w3.org/2000/svg\" height=\"24px\"viewBox=\"0 0 24 24\"\n",
              "       width=\"24px\">\n",
              "    <path d=\"M0 0h24v24H0V0z\" fill=\"none\"/>\n",
              "    <path d=\"M18.56 5.44l.94 2.06.94-2.06 2.06-.94-2.06-.94-.94-2.06-.94 2.06-2.06.94zm-11 1L8.5 8.5l.94-2.06 2.06-.94-2.06-.94L8.5 2.5l-.94 2.06-2.06.94zm10 10l.94 2.06.94-2.06 2.06-.94-2.06-.94-.94-2.06-.94 2.06-2.06.94z\"/><path d=\"M17.41 7.96l-1.37-1.37c-.4-.4-.92-.59-1.43-.59-.52 0-1.04.2-1.43.59L10.3 9.45l-7.72 7.72c-.78.78-.78 2.05 0 2.83L4 21.41c.39.39.9.59 1.41.59.51 0 1.02-.2 1.41-.59l7.78-7.78 2.81-2.81c.8-.78.8-2.07 0-2.86zM5.41 20L4 18.59l7.72-7.72 1.47 1.35L5.41 20z\"/>\n",
              "  </svg>\n",
              "      </button>\n",
              "      \n",
              "  <style>\n",
              "    .colab-df-container {\n",
              "      display:flex;\n",
              "      flex-wrap:wrap;\n",
              "      gap: 12px;\n",
              "    }\n",
              "\n",
              "    .colab-df-convert {\n",
              "      background-color: #E8F0FE;\n",
              "      border: none;\n",
              "      border-radius: 50%;\n",
              "      cursor: pointer;\n",
              "      display: none;\n",
              "      fill: #1967D2;\n",
              "      height: 32px;\n",
              "      padding: 0 0 0 0;\n",
              "      width: 32px;\n",
              "    }\n",
              "\n",
              "    .colab-df-convert:hover {\n",
              "      background-color: #E2EBFA;\n",
              "      box-shadow: 0px 1px 2px rgba(60, 64, 67, 0.3), 0px 1px 3px 1px rgba(60, 64, 67, 0.15);\n",
              "      fill: #174EA6;\n",
              "    }\n",
              "\n",
              "    [theme=dark] .colab-df-convert {\n",
              "      background-color: #3B4455;\n",
              "      fill: #D2E3FC;\n",
              "    }\n",
              "\n",
              "    [theme=dark] .colab-df-convert:hover {\n",
              "      background-color: #434B5C;\n",
              "      box-shadow: 0px 1px 3px 1px rgba(0, 0, 0, 0.15);\n",
              "      filter: drop-shadow(0px 1px 2px rgba(0, 0, 0, 0.3));\n",
              "      fill: #FFFFFF;\n",
              "    }\n",
              "  </style>\n",
              "\n",
              "      <script>\n",
              "        const buttonEl =\n",
              "          document.querySelector('#df-63178774-da3a-4649-a662-9039008af6aa button.colab-df-convert');\n",
              "        buttonEl.style.display =\n",
              "          google.colab.kernel.accessAllowed ? 'block' : 'none';\n",
              "\n",
              "        async function convertToInteractive(key) {\n",
              "          const element = document.querySelector('#df-63178774-da3a-4649-a662-9039008af6aa');\n",
              "          const dataTable =\n",
              "            await google.colab.kernel.invokeFunction('convertToInteractive',\n",
              "                                                     [key], {});\n",
              "          if (!dataTable) return;\n",
              "\n",
              "          const docLinkHtml = 'Like what you see? Visit the ' +\n",
              "            '<a target=\"_blank\" href=https://colab.research.google.com/notebooks/data_table.ipynb>data table notebook</a>'\n",
              "            + ' to learn more about interactive tables.';\n",
              "          element.innerHTML = '';\n",
              "          dataTable['output_type'] = 'display_data';\n",
              "          await google.colab.output.renderOutput(dataTable, element);\n",
              "          const docLink = document.createElement('div');\n",
              "          docLink.innerHTML = docLinkHtml;\n",
              "          element.appendChild(docLink);\n",
              "        }\n",
              "      </script>\n",
              "    </div>\n",
              "  </div>\n",
              "  "
            ]
          },
          "metadata": {},
          "execution_count": 6
        }
      ]
    },
    {
      "cell_type": "markdown",
      "source": [
        "**Observation**\n",
        "\n",
        "*   Dataset for age is make sense\n",
        "*   For age column has normal distribution because median almost close mean\n",
        "\n",
        "\n",
        "\n"
      ],
      "metadata": {
        "id": "6Pi_4n758IfW"
      }
    },
    {
      "cell_type": "code",
      "source": [
        "df.describe(include='object')"
      ],
      "metadata": {
        "colab": {
          "base_uri": "https://localhost:8080/",
          "height": 175
        },
        "id": "YIuusO6w7kn9",
        "outputId": "bc5ab128-2aad-4ade-e8ae-d650eb457068"
      },
      "execution_count": null,
      "outputs": [
        {
          "output_type": "execute_result",
          "data": {
            "text/plain": [
              "       Education Level Institution Type Gender  Device IT Student Location  \\\n",
              "count             1205             1205   1205    1205       1205     1205   \n",
              "unique               3                2      2       3          2        2   \n",
              "top             School          Private   Male  Mobile         No     Town   \n",
              "freq               530              823    663    1013        901      935   \n",
              "\n",
              "       Financial Condition Internet Type Network Type Flexibility Level  \n",
              "count                 1205          1205         1205              1205  \n",
              "unique                   3             2            3                 3  \n",
              "top                    Mid   Mobile Data           4G          Moderate  \n",
              "freq                   878           695          775               625  "
            ],
            "text/html": [
              "\n",
              "  <div id=\"df-7a4f1781-1921-4036-91e2-129503595cad\">\n",
              "    <div class=\"colab-df-container\">\n",
              "      <div>\n",
              "<style scoped>\n",
              "    .dataframe tbody tr th:only-of-type {\n",
              "        vertical-align: middle;\n",
              "    }\n",
              "\n",
              "    .dataframe tbody tr th {\n",
              "        vertical-align: top;\n",
              "    }\n",
              "\n",
              "    .dataframe thead th {\n",
              "        text-align: right;\n",
              "    }\n",
              "</style>\n",
              "<table border=\"1\" class=\"dataframe\">\n",
              "  <thead>\n",
              "    <tr style=\"text-align: right;\">\n",
              "      <th></th>\n",
              "      <th>Education Level</th>\n",
              "      <th>Institution Type</th>\n",
              "      <th>Gender</th>\n",
              "      <th>Device</th>\n",
              "      <th>IT Student</th>\n",
              "      <th>Location</th>\n",
              "      <th>Financial Condition</th>\n",
              "      <th>Internet Type</th>\n",
              "      <th>Network Type</th>\n",
              "      <th>Flexibility Level</th>\n",
              "    </tr>\n",
              "  </thead>\n",
              "  <tbody>\n",
              "    <tr>\n",
              "      <th>count</th>\n",
              "      <td>1205</td>\n",
              "      <td>1205</td>\n",
              "      <td>1205</td>\n",
              "      <td>1205</td>\n",
              "      <td>1205</td>\n",
              "      <td>1205</td>\n",
              "      <td>1205</td>\n",
              "      <td>1205</td>\n",
              "      <td>1205</td>\n",
              "      <td>1205</td>\n",
              "    </tr>\n",
              "    <tr>\n",
              "      <th>unique</th>\n",
              "      <td>3</td>\n",
              "      <td>2</td>\n",
              "      <td>2</td>\n",
              "      <td>3</td>\n",
              "      <td>2</td>\n",
              "      <td>2</td>\n",
              "      <td>3</td>\n",
              "      <td>2</td>\n",
              "      <td>3</td>\n",
              "      <td>3</td>\n",
              "    </tr>\n",
              "    <tr>\n",
              "      <th>top</th>\n",
              "      <td>School</td>\n",
              "      <td>Private</td>\n",
              "      <td>Male</td>\n",
              "      <td>Mobile</td>\n",
              "      <td>No</td>\n",
              "      <td>Town</td>\n",
              "      <td>Mid</td>\n",
              "      <td>Mobile Data</td>\n",
              "      <td>4G</td>\n",
              "      <td>Moderate</td>\n",
              "    </tr>\n",
              "    <tr>\n",
              "      <th>freq</th>\n",
              "      <td>530</td>\n",
              "      <td>823</td>\n",
              "      <td>663</td>\n",
              "      <td>1013</td>\n",
              "      <td>901</td>\n",
              "      <td>935</td>\n",
              "      <td>878</td>\n",
              "      <td>695</td>\n",
              "      <td>775</td>\n",
              "      <td>625</td>\n",
              "    </tr>\n",
              "  </tbody>\n",
              "</table>\n",
              "</div>\n",
              "      <button class=\"colab-df-convert\" onclick=\"convertToInteractive('df-7a4f1781-1921-4036-91e2-129503595cad')\"\n",
              "              title=\"Convert this dataframe to an interactive table.\"\n",
              "              style=\"display:none;\">\n",
              "        \n",
              "  <svg xmlns=\"http://www.w3.org/2000/svg\" height=\"24px\"viewBox=\"0 0 24 24\"\n",
              "       width=\"24px\">\n",
              "    <path d=\"M0 0h24v24H0V0z\" fill=\"none\"/>\n",
              "    <path d=\"M18.56 5.44l.94 2.06.94-2.06 2.06-.94-2.06-.94-.94-2.06-.94 2.06-2.06.94zm-11 1L8.5 8.5l.94-2.06 2.06-.94-2.06-.94L8.5 2.5l-.94 2.06-2.06.94zm10 10l.94 2.06.94-2.06 2.06-.94-2.06-.94-.94-2.06-.94 2.06-2.06.94z\"/><path d=\"M17.41 7.96l-1.37-1.37c-.4-.4-.92-.59-1.43-.59-.52 0-1.04.2-1.43.59L10.3 9.45l-7.72 7.72c-.78.78-.78 2.05 0 2.83L4 21.41c.39.39.9.59 1.41.59.51 0 1.02-.2 1.41-.59l7.78-7.78 2.81-2.81c.8-.78.8-2.07 0-2.86zM5.41 20L4 18.59l7.72-7.72 1.47 1.35L5.41 20z\"/>\n",
              "  </svg>\n",
              "      </button>\n",
              "      \n",
              "  <style>\n",
              "    .colab-df-container {\n",
              "      display:flex;\n",
              "      flex-wrap:wrap;\n",
              "      gap: 12px;\n",
              "    }\n",
              "\n",
              "    .colab-df-convert {\n",
              "      background-color: #E8F0FE;\n",
              "      border: none;\n",
              "      border-radius: 50%;\n",
              "      cursor: pointer;\n",
              "      display: none;\n",
              "      fill: #1967D2;\n",
              "      height: 32px;\n",
              "      padding: 0 0 0 0;\n",
              "      width: 32px;\n",
              "    }\n",
              "\n",
              "    .colab-df-convert:hover {\n",
              "      background-color: #E2EBFA;\n",
              "      box-shadow: 0px 1px 2px rgba(60, 64, 67, 0.3), 0px 1px 3px 1px rgba(60, 64, 67, 0.15);\n",
              "      fill: #174EA6;\n",
              "    }\n",
              "\n",
              "    [theme=dark] .colab-df-convert {\n",
              "      background-color: #3B4455;\n",
              "      fill: #D2E3FC;\n",
              "    }\n",
              "\n",
              "    [theme=dark] .colab-df-convert:hover {\n",
              "      background-color: #434B5C;\n",
              "      box-shadow: 0px 1px 3px 1px rgba(0, 0, 0, 0.15);\n",
              "      filter: drop-shadow(0px 1px 2px rgba(0, 0, 0, 0.3));\n",
              "      fill: #FFFFFF;\n",
              "    }\n",
              "  </style>\n",
              "\n",
              "      <script>\n",
              "        const buttonEl =\n",
              "          document.querySelector('#df-7a4f1781-1921-4036-91e2-129503595cad button.colab-df-convert');\n",
              "        buttonEl.style.display =\n",
              "          google.colab.kernel.accessAllowed ? 'block' : 'none';\n",
              "\n",
              "        async function convertToInteractive(key) {\n",
              "          const element = document.querySelector('#df-7a4f1781-1921-4036-91e2-129503595cad');\n",
              "          const dataTable =\n",
              "            await google.colab.kernel.invokeFunction('convertToInteractive',\n",
              "                                                     [key], {});\n",
              "          if (!dataTable) return;\n",
              "\n",
              "          const docLinkHtml = 'Like what you see? Visit the ' +\n",
              "            '<a target=\"_blank\" href=https://colab.research.google.com/notebooks/data_table.ipynb>data table notebook</a>'\n",
              "            + ' to learn more about interactive tables.';\n",
              "          element.innerHTML = '';\n",
              "          dataTable['output_type'] = 'display_data';\n",
              "          await google.colab.output.renderOutput(dataTable, element);\n",
              "          const docLink = document.createElement('div');\n",
              "          docLink.innerHTML = docLinkHtml;\n",
              "          element.appendChild(docLink);\n",
              "        }\n",
              "      </script>\n",
              "    </div>\n",
              "  </div>\n",
              "  "
            ]
          },
          "metadata": {},
          "execution_count": 7
        }
      ]
    },
    {
      "cell_type": "code",
      "source": [
        "cat = list(df.columns)"
      ],
      "metadata": {
        "id": "BIDpKNbE7yAJ"
      },
      "execution_count": null,
      "outputs": []
    },
    {
      "cell_type": "code",
      "source": [
        "for col in cat :\n",
        "  print(f\"Value counts of \\033[1m{col}\\033[0m column\")\n",
        "  print(df[col].value_counts(),'\\n')"
      ],
      "metadata": {
        "colab": {
          "base_uri": "https://localhost:8080/"
        },
        "id": "qbkiA7Ch8q0F",
        "outputId": "39953de9-55aa-428b-85a0-9125bd4e615f"
      },
      "execution_count": null,
      "outputs": [
        {
          "output_type": "stream",
          "name": "stdout",
          "text": [
            "Value counts of \u001b[1mEducation Level\u001b[0m column\n",
            "School        530\n",
            "University    456\n",
            "College       219\n",
            "Name: Education Level, dtype: int64 \n",
            "\n",
            "Value counts of \u001b[1mInstitution Type\u001b[0m column\n",
            "Private    823\n",
            "Public     382\n",
            "Name: Institution Type, dtype: int64 \n",
            "\n",
            "Value counts of \u001b[1mGender\u001b[0m column\n",
            "Male      663\n",
            "Female    542\n",
            "Name: Gender, dtype: int64 \n",
            "\n",
            "Value counts of \u001b[1mAge\u001b[0m column\n",
            "23    374\n",
            "11    353\n",
            "18    278\n",
            "9      81\n",
            "27     68\n",
            "10     51\n",
            "Name: Age, dtype: int64 \n",
            "\n",
            "Value counts of \u001b[1mDevice\u001b[0m column\n",
            "Mobile      1013\n",
            "Computer     162\n",
            "Tab           30\n",
            "Name: Device, dtype: int64 \n",
            "\n",
            "Value counts of \u001b[1mIT Student\u001b[0m column\n",
            "No     901\n",
            "Yes    304\n",
            "Name: IT Student, dtype: int64 \n",
            "\n",
            "Value counts of \u001b[1mLocation\u001b[0m column\n",
            "Town     935\n",
            "Rural    270\n",
            "Name: Location, dtype: int64 \n",
            "\n",
            "Value counts of \u001b[1mFinancial Condition\u001b[0m column\n",
            "Mid     878\n",
            "Poor    242\n",
            "Rich     85\n",
            "Name: Financial Condition, dtype: int64 \n",
            "\n",
            "Value counts of \u001b[1mInternet Type\u001b[0m column\n",
            "Mobile Data    695\n",
            "Wifi           510\n",
            "Name: Internet Type, dtype: int64 \n",
            "\n",
            "Value counts of \u001b[1mNetwork Type\u001b[0m column\n",
            "4G    775\n",
            "3G    411\n",
            "2G     19\n",
            "Name: Network Type, dtype: int64 \n",
            "\n",
            "Value counts of \u001b[1mFlexibility Level\u001b[0m column\n",
            "Moderate    625\n",
            "Low         480\n",
            "High        100\n",
            "Name: Flexibility Level, dtype: int64 \n",
            "\n"
          ]
        }
      ]
    },
    {
      "cell_type": "code",
      "source": [
        "plt.figure(figsize=(2,5))\n",
        "sns.boxplot(y=df['Age'],color='aqua')\n",
        "plt.tight_layout()"
      ],
      "metadata": {
        "colab": {
          "base_uri": "https://localhost:8080/",
          "height": 369
        },
        "id": "562M6nWL_Tzs",
        "outputId": "21ced8c2-03e4-4e81-c798-225ccb1fbe15"
      },
      "execution_count": null,
      "outputs": [
        {
          "output_type": "display_data",
          "data": {
            "text/plain": [
              "<Figure size 144x360 with 1 Axes>"
            ],
            "image/png": "[encoded data removed]"
          },
          "metadata": {
            "needs_background": "light"
          }
        }
      ]
    },
    {
      "cell_type": "code",
      "source": [
        "cols = 4\n",
        "rows = 3\n",
        "fig = plt.figure(figsize=(20,15))\n",
        "\n",
        "\n",
        "for i , col in enumerate(df):\n",
        "    ax = fig.add_subplot(rows,cols,i+1)\n",
        "    sns.countplot(x=df[col] , data=df, ax = ax)\n",
        "\n",
        "plt.tight_layout\n",
        "plt.show()"
      ],
      "metadata": {
        "colab": {
          "base_uri": "https://localhost:8080/",
          "height": 877
        },
        "id": "4KlKtIqtENiU",
        "outputId": "d5c08e37-a8a6-4f8a-dbaf-9b0fa6f65160"
      },
      "execution_count": null,
      "outputs": [
        {
          "output_type": "display_data",
          "data": {
            "text/plain": [
              "<Figure size 1440x1080 with 11 Axes>"
            ],
            "image/png": "[encoded data removed]"
          },
          "metadata": {
            "needs_background": "light"
          }
        }
      ]
    },
    {
      "cell_type": "markdown",
      "source": [
        "Obeservation from 1205 rows data with 11 feature,\n",
        "\n",
        "*   The most Student `Education Level` from School amounted to 530\n",
        "*   The most `Institution Type` is Private amounted to 823\n",
        "*   There are more `male` students than `female` students with a difference of 121 people\n",
        "*   The 3 ages that occupy the top rank are 374 students aged 23 years, 353 students aged 11 years, and  278 students aged 18 years. \n",
        "*   Most of Student prefer to use `mobile` for online learning `device`\n",
        "*   Most of Student is not from `IT Student`\n",
        "*   The location where students live in `Rural` areas is less than students who live in `Town`\n",
        "*   `Financial Condition` dominated by Mid Level.\n",
        "*   `Internet Type` dominated by mobile data\n",
        "*   `Network Type` dominated by 4G amounted to 775\n",
        "*   The `Flexibility Level` of students in moderate is most\n",
        "\n",
        "\n",
        "\n",
        "\n",
        "\n",
        "\n"
      ],
      "metadata": {
        "id": "vmtwDn5w_WZ4"
      }
    },
    {
      "cell_type": "code",
      "source": [
        "cols = 4\n",
        "rows = 3\n",
        "fig = plt.figure(figsize=(20,15))\n",
        "\n",
        "\n",
        "for i , col in enumerate(df.select_dtypes(include='object')):\n",
        "    ax = fig.add_subplot(rows,cols,i+1)\n",
        "    sns.countplot(x=df[col] , hue = 'Flexibility Level' , data=df, ax = ax)\n",
        "\n",
        "plt.tight_layout\n",
        "plt.show()"
      ],
      "metadata": {
        "colab": {
          "base_uri": "https://localhost:8080/",
          "height": 877
        },
        "id": "HdC26MUfMVNy",
        "outputId": "97676517-142e-4dea-b185-14953aed1b67"
      },
      "execution_count": null,
      "outputs": [
        {
          "output_type": "display_data",
          "data": {
            "text/plain": [
              "<Figure size 1440x1080 with 10 Axes>"
            ],
            "image/png": "[encoded data removed]"
          },
          "metadata": {
            "needs_background": "light"
          }
        }
      ]
    },
    {
      "cell_type": "markdown",
      "source": [
        "Observation\n",
        "\n",
        "*   `Collage` level education needs more attention because of low flexibility\n",
        "*   Goverment must help more about learning online to student with `Poor` financial condition\n",
        "*   `Rural` location ,where the student lives,needs some more attention to learning online.\n",
        "*   Student who didn't have IT skill need more practice for learning online.\n",
        "*   Both `wifi` and `mobile data` really help enough to learning online\n"
      ],
      "metadata": {
        "id": "vof8xgLsGgxx"
      }
    },
    {
      "cell_type": "markdown",
      "source": [
        "# **Conclusion**"
      ],
      "metadata": {
        "id": "oE2Xp0p_KenS"
      }
    },
    {
      "cell_type": "markdown",
      "source": [
        "Learning Online can more effective if infrastructure is ready for any region both town or rural, beside that people who uses online learning must have basic IT skill to operate online learning. Maybe Goverment can help to poor and mid class financial for free online learning acsess."
      ],
      "metadata": {
        "id": "WjgBBnwmKkkG"
      }
    }
  ]
}